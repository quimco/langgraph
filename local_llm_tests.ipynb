{
 "cells": [
  {
   "cell_type": "code",
   "execution_count": 4,
   "metadata": {},
   "outputs": [
    {
     "name": "stdout",
     "output_type": "stream",
     "text": [
      "Here's an interesting fact about elephants:\n",
      "\n",
      "Elephants have a highly developed sense of empathy and compassion. In the wild, they have been observed showing empathy towards each other in various situations. For example, when an elephant mourns the loss of a family member or friend, it will often visit the gravesite and touch their trunk to the deceased elephant's body as a sign of respect and condolences.\n",
      "\n",
      "In one famous instance, a matriarchal herd of elephants was left behind by the rest of the herd while they went in search of food. The elephants spent several days searching for each other, and when they finally reunited, the reunion was incredibly emotional. The elephants displayed behaviors such as embracing, touching trunks, and even weeping, indicating a deep sense of sorrow and relief.\n",
      "\n",
      "This level of empathy is rare in the animal kingdom, and it highlights just how intelligent and social these incredible creatures are.\n"
     ]
    }
   ],
   "source": [
    "#ddownload ans install ollama from https://ollama.com/download\n",
    "# then you can chat with $ollama run llama3.2  and start queryng!!\n",
    "# To use here, open it as a servie: $ollama serve  \n",
    "\n",
    "# all documentation from here: https://www.datacamp.com/tutorial/run-llama-3-locally\n",
    "import ollama\n",
    "\n",
    "response = ollama.chat(\n",
    "    model=\"llama3.2\",\n",
    "    messages=[\n",
    "        {\n",
    "            \"role\": \"user\",\n",
    "            \"content\": \"Tell me an interesting fact about elephants\",\n",
    "        },\n",
    "    ],\n",
    ")\n",
    "print(response[\"message\"][\"content\"])"
   ]
  },
  {
   "cell_type": "code",
   "execution_count": null,
   "metadata": {},
   "outputs": [],
   "source": []
  }
 ],
 "metadata": {
  "kernelspec": {
   "display_name": "langgraph",
   "language": "python",
   "name": "python3"
  },
  "language_info": {
   "codemirror_mode": {
    "name": "ipython",
    "version": 3
   },
   "file_extension": ".py",
   "mimetype": "text/x-python",
   "name": "python",
   "nbconvert_exporter": "python",
   "pygments_lexer": "ipython3",
   "version": "3.9.20"
  }
 },
 "nbformat": 4,
 "nbformat_minor": 2
}
